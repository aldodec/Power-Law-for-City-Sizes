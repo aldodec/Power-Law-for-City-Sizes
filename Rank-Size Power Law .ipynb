{
 "cells": [
  {
   "cell_type": "markdown",
   "metadata": {},
   "source": [
    "# Power Law for City Sizes"
   ]
  },
  {
   "cell_type": "markdown",
   "metadata": {},
   "source": [
    "In this notebook we explore some aspects of the 'Rank-Size' power law distribution, where the logarithm of a country's city population and their corresponding relative ranking follow an approximately linear relation. We work for the particular case of Mexico and the United States."
   ]
  },
  {
   "cell_type": "markdown",
   "metadata": {},
   "source": [
    "## Power Law in Mexican Cities"
   ]
  },
  {
   "cell_type": "code",
   "execution_count": 3,
   "metadata": {},
   "outputs": [],
   "source": [
    "import pandas as pd\n",
    "import numpy as np\n",
    "import matplotlib.pyplot as plt\n",
    "import seaborn as sns\n",
    "%matplotlib inline\n",
    "sns.set()\n",
    "plt.style.use('fivethirtyeight')"
   ]
  },
  {
   "cell_type": "markdown",
   "metadata": {},
   "source": [
    "We take our data from https://es.wikipedia.org/wiki/Anexo:Ciudades_de_M%C3%A9xico_m%C3%A1s_pobladas , which is taken from data from the 2010 census. "
   ]
  },
  {
   "cell_type": "code",
   "execution_count": 2,
   "metadata": {},
   "outputs": [],
   "source": [
    "df = pd.read_html('https://es.wikipedia.org/wiki/Anexo:Ciudades_de_M%C3%A9xico_m%C3%A1s_pobladas')[1]"
   ]
  },
  {
   "cell_type": "code",
   "execution_count": 3,
   "metadata": {},
   "outputs": [
    {
     "data": {
      "text/html": [
       "<div>\n",
       "<style scoped>\n",
       "    .dataframe tbody tr th:only-of-type {\n",
       "        vertical-align: middle;\n",
       "    }\n",
       "\n",
       "    .dataframe tbody tr th {\n",
       "        vertical-align: top;\n",
       "    }\n",
       "\n",
       "    .dataframe thead th {\n",
       "        text-align: right;\n",
       "    }\n",
       "</style>\n",
       "<table border=\"1\" class=\"dataframe\">\n",
       "  <thead>\n",
       "    <tr style=\"text-align: right;\">\n",
       "      <th></th>\n",
       "      <th>º</th>\n",
       "      <th>Unnamed: 1</th>\n",
       "      <th>Ciudad</th>\n",
       "      <th>Población (2010)</th>\n",
       "      <th>Entidad Federativa</th>\n",
       "      <th>Área metropolitana</th>\n",
       "    </tr>\n",
       "  </thead>\n",
       "  <tbody>\n",
       "    <tr>\n",
       "      <th>0</th>\n",
       "      <td>1</td>\n",
       "      <td>DIF-01</td>\n",
       "      <td>Ciudad de México</td>\n",
       "      <td>8 851 080</td>\n",
       "      <td>Ciudad de México</td>\n",
       "      <td>Valle de México</td>\n",
       "    </tr>\n",
       "    <tr>\n",
       "      <th>1</th>\n",
       "      <td>2</td>\n",
       "      <td>MEX-01</td>\n",
       "      <td>Ecatepec</td>\n",
       "      <td>1 655 015</td>\n",
       "      <td>México</td>\n",
       "      <td>Valle de México</td>\n",
       "    </tr>\n",
       "    <tr>\n",
       "      <th>2</th>\n",
       "      <td>3</td>\n",
       "      <td>JAL-01</td>\n",
       "      <td>Guadalajara</td>\n",
       "      <td>1 495 182</td>\n",
       "      <td>Jalisco</td>\n",
       "      <td>Guadalajara</td>\n",
       "    </tr>\n",
       "    <tr>\n",
       "      <th>3</th>\n",
       "      <td>4</td>\n",
       "      <td>PUE-01</td>\n",
       "      <td>Puebla de Zaragoza</td>\n",
       "      <td>1 434 062</td>\n",
       "      <td>Puebla</td>\n",
       "      <td>Puebla-Tlaxcala</td>\n",
       "    </tr>\n",
       "    <tr>\n",
       "      <th>4</th>\n",
       "      <td>5</td>\n",
       "      <td>CHH-01</td>\n",
       "      <td>Ciudad Juárez</td>\n",
       "      <td>1 321 004</td>\n",
       "      <td>Chihuahua</td>\n",
       "      <td>Juárez y El Paso</td>\n",
       "    </tr>\n",
       "  </tbody>\n",
       "</table>\n",
       "</div>"
      ],
      "text/plain": [
       "   º Unnamed: 1              Ciudad Población (2010) Entidad Federativa  \\\n",
       "0  1     DIF-01    Ciudad de México        8 851 080   Ciudad de México   \n",
       "1  2     MEX-01            Ecatepec        1 655 015             México   \n",
       "2  3     JAL-01         Guadalajara        1 495 182            Jalisco   \n",
       "3  4     PUE-01  Puebla de Zaragoza        1 434 062             Puebla   \n",
       "4  5     CHH-01       Ciudad Juárez        1 321 004          Chihuahua   \n",
       "\n",
       "  Área metropolitana  \n",
       "0    Valle de México  \n",
       "1    Valle de México  \n",
       "2        Guadalajara  \n",
       "3    Puebla-Tlaxcala  \n",
       "4   Juárez y El Paso  "
      ]
     },
     "execution_count": 3,
     "metadata": {},
     "output_type": "execute_result"
    }
   ],
   "source": [
    "df.head()"
   ]
  },
  {
   "cell_type": "markdown",
   "metadata": {},
   "source": [
    "We start cleaning our data frame."
   ]
  },
  {
   "cell_type": "code",
   "execution_count": 4,
   "metadata": {},
   "outputs": [
    {
     "data": {
      "text/plain": [
       "Index(['º', 'Unnamed: 1', 'Ciudad', 'Población (2010)', 'Entidad Federativa',\n",
       "       'Área metropolitana'],\n",
       "      dtype='object')"
      ]
     },
     "execution_count": 4,
     "metadata": {},
     "output_type": "execute_result"
    }
   ],
   "source": [
    "df.columns"
   ]
  },
  {
   "cell_type": "code",
   "execution_count": 5,
   "metadata": {},
   "outputs": [],
   "source": [
    "df['Rank'] = df['º']\n",
    "df['Size'] = df['Población (2010)']\n",
    "\n",
    "df = df.drop(['º','Unnamed: 1','Entidad Federativa','Área metropolitana','Ciudad','Población (2010)'], axis = 1)"
   ]
  },
  {
   "cell_type": "code",
   "execution_count": 6,
   "metadata": {},
   "outputs": [
    {
     "data": {
      "text/html": [
       "<div>\n",
       "<style scoped>\n",
       "    .dataframe tbody tr th:only-of-type {\n",
       "        vertical-align: middle;\n",
       "    }\n",
       "\n",
       "    .dataframe tbody tr th {\n",
       "        vertical-align: top;\n",
       "    }\n",
       "\n",
       "    .dataframe thead th {\n",
       "        text-align: right;\n",
       "    }\n",
       "</style>\n",
       "<table border=\"1\" class=\"dataframe\">\n",
       "  <thead>\n",
       "    <tr style=\"text-align: right;\">\n",
       "      <th></th>\n",
       "      <th>Rank</th>\n",
       "      <th>Size</th>\n",
       "    </tr>\n",
       "  </thead>\n",
       "  <tbody>\n",
       "    <tr>\n",
       "      <th>0</th>\n",
       "      <td>1</td>\n",
       "      <td>8 851 080</td>\n",
       "    </tr>\n",
       "    <tr>\n",
       "      <th>1</th>\n",
       "      <td>2</td>\n",
       "      <td>1 655 015</td>\n",
       "    </tr>\n",
       "    <tr>\n",
       "      <th>2</th>\n",
       "      <td>3</td>\n",
       "      <td>1 495 182</td>\n",
       "    </tr>\n",
       "    <tr>\n",
       "      <th>3</th>\n",
       "      <td>4</td>\n",
       "      <td>1 434 062</td>\n",
       "    </tr>\n",
       "    <tr>\n",
       "      <th>4</th>\n",
       "      <td>5</td>\n",
       "      <td>1 321 004</td>\n",
       "    </tr>\n",
       "  </tbody>\n",
       "</table>\n",
       "</div>"
      ],
      "text/plain": [
       "   Rank       Size\n",
       "0     1  8 851 080\n",
       "1     2  1 655 015\n",
       "2     3  1 495 182\n",
       "3     4  1 434 062\n",
       "4     5  1 321 004"
      ]
     },
     "execution_count": 6,
     "metadata": {},
     "output_type": "execute_result"
    }
   ],
   "source": [
    "df.head()"
   ]
  },
  {
   "cell_type": "code",
   "execution_count": 7,
   "metadata": {},
   "outputs": [],
   "source": [
    "def to_num(x):\n",
    "    if len(x.split()) == 3:\n",
    "        return pd.to_numeric(x.split()[0]+x.split()[1]+x.split()[2])\n",
    " \n",
    "    elif len(x.split()) == 2:\n",
    "        return pd.to_numeric(x.split()[0]+x.split()[1])\n",
    "    "
   ]
  },
  {
   "cell_type": "code",
   "execution_count": 8,
   "metadata": {},
   "outputs": [],
   "source": [
    "df['Size'] = df['Size'].apply(to_num)"
   ]
  },
  {
   "cell_type": "markdown",
   "metadata": {},
   "source": [
    "We focus only on cities with 250,000 or more inhabitants."
   ]
  },
  {
   "cell_type": "code",
   "execution_count": 9,
   "metadata": {},
   "outputs": [],
   "source": [
    "df = df[df['Size'] > 250000]"
   ]
  },
  {
   "cell_type": "code",
   "execution_count": 11,
   "metadata": {},
   "outputs": [
    {
     "data": {
      "image/png": "[encoded data removed]",
      "text/plain": [
       "<matplotlib.figure.Figure at 0x1135627f0>"
      ]
     },
     "metadata": {
      "needs_background": "light"
     },
     "output_type": "display_data"
    }
   ],
   "source": [
    "plt.figure(figsize =(10,8))\n",
    "sns.scatterplot(y = np.log(df['Rank']),x = np.log(df['Size']))\n",
    "plt.ylabel('Log(Rank)')\n",
    "plt.xlabel('Log(Population)')\n",
    "plt.title('Mexico')\n",
    "plt.show()"
   ]
  },
  {
   "cell_type": "code",
   "execution_count": 12,
   "metadata": {},
   "outputs": [],
   "source": [
    "beta, alpha = np.polyfit(x = np.log(df['Size']) , y = np.log(df['Rank']) ,deg = 1)"
   ]
  },
  {
   "cell_type": "code",
   "execution_count": 13,
   "metadata": {},
   "outputs": [
    {
     "data": {
      "text/plain": [
       "-1.3965973184495781"
      ]
     },
     "execution_count": 13,
     "metadata": {},
     "output_type": "execute_result"
    }
   ],
   "source": [
    "beta"
   ]
  },
  {
   "cell_type": "code",
   "execution_count": 14,
   "metadata": {},
   "outputs": [
    {
     "data": {
      "text/plain": [
       "21.62818869362944"
      ]
     },
     "execution_count": 14,
     "metadata": {},
     "output_type": "execute_result"
    }
   ],
   "source": [
    "alpha"
   ]
  },
  {
   "cell_type": "code",
   "execution_count": 16,
   "metadata": {},
   "outputs": [
    {
     "data": {
      "image/png": "[encoded data removed]",
      "text/plain": [
       "<matplotlib.figure.Figure at 0x1142809e8>"
      ]
     },
     "metadata": {
      "needs_background": "light"
     },
     "output_type": "display_data"
    }
   ],
   "source": [
    "plt.figure(figsize =(10,8))\n",
    "sns.scatterplot(y = np.log(df['Rank']),x = np.log(df['Size']))\n",
    "sns.lineplot(x = np.log(df['Size']), y = alpha + np.log(df['Size'])*beta, color = 'red')\n",
    "plt.ylabel('Log(Rank)')\n",
    "plt.xlabel('Log(Size)')\n",
    "plt.title('Mexico')\n",
    "plt.show()"
   ]
  },
  {
   "cell_type": "code",
   "execution_count": 17,
   "metadata": {},
   "outputs": [
    {
     "name": "stdout",
     "output_type": "stream",
     "text": [
      "-1.3965973184495781 21.62818869362944\n"
     ]
    }
   ],
   "source": [
    "beta_mex = beta\n",
    "alpha_mex = alpha\n",
    "print(beta_mex, alpha_mex)"
   ]
  },
  {
   "cell_type": "markdown",
   "metadata": {},
   "source": [
    "So, we see a relation:\n",
    "$$\n",
    "\\ln(\\text{Rank}) = 21.63 - 1.40\\ln(\\text{Size}) \\,,\n",
    "$$"
   ]
  },
  {
   "cell_type": "markdown",
   "metadata": {},
   "source": [
    "# ======================================================="
   ]
  },
  {
   "cell_type": "markdown",
   "metadata": {},
   "source": [
    "## Power Law in US Cities"
   ]
  },
  {
   "cell_type": "markdown",
   "metadata": {},
   "source": [
    "We take or data from http://worldpopulationreview.com/countries/united-states-population/cities/ and use data from the 2010 census."
   ]
  },
  {
   "cell_type": "code",
   "execution_count": 4,
   "metadata": {},
   "outputs": [
    {
     "data": {
      "text/html": [
       "<div>\n",
       "<style scoped>\n",
       "    .dataframe tbody tr th:only-of-type {\n",
       "        vertical-align: middle;\n",
       "    }\n",
       "\n",
       "    .dataframe tbody tr th {\n",
       "        vertical-align: top;\n",
       "    }\n",
       "\n",
       "    .dataframe thead th {\n",
       "        text-align: right;\n",
       "    }\n",
       "</style>\n",
       "<table border=\"1\" class=\"dataframe\">\n",
       "  <thead>\n",
       "    <tr style=\"text-align: right;\">\n",
       "      <th></th>\n",
       "      <th>asciiname</th>\n",
       "      <th>population</th>\n",
       "      <th>location</th>\n",
       "    </tr>\n",
       "  </thead>\n",
       "  <tbody>\n",
       "    <tr>\n",
       "      <th>0</th>\n",
       "      <td>New York City</td>\n",
       "      <td>8175133</td>\n",
       "      <td>https://www.google.com/maps/?q=40.71427,-74.00597</td>\n",
       "    </tr>\n",
       "    <tr>\n",
       "      <th>1</th>\n",
       "      <td>Los Angeles</td>\n",
       "      <td>3971883</td>\n",
       "      <td>https://www.google.com/maps/?q=34.05223,-118.2...</td>\n",
       "    </tr>\n",
       "    <tr>\n",
       "      <th>2</th>\n",
       "      <td>Chicago</td>\n",
       "      <td>2720546</td>\n",
       "      <td>https://www.google.com/maps/?q=41.85003,-87.65005</td>\n",
       "    </tr>\n",
       "    <tr>\n",
       "      <th>3</th>\n",
       "      <td>Brooklyn</td>\n",
       "      <td>2300664</td>\n",
       "      <td>https://www.google.com/maps/?q=40.6501,-73.94958</td>\n",
       "    </tr>\n",
       "    <tr>\n",
       "      <th>4</th>\n",
       "      <td>Houston</td>\n",
       "      <td>2296224</td>\n",
       "      <td>https://www.google.com/maps/?q=29.76328,-95.36327</td>\n",
       "    </tr>\n",
       "  </tbody>\n",
       "</table>\n",
       "</div>"
      ],
      "text/plain": [
       "       asciiname  population  \\\n",
       "0  New York City     8175133   \n",
       "1    Los Angeles     3971883   \n",
       "2        Chicago     2720546   \n",
       "3       Brooklyn     2300664   \n",
       "4        Houston     2296224   \n",
       "\n",
       "                                            location  \n",
       "0  https://www.google.com/maps/?q=40.71427,-74.00597  \n",
       "1  https://www.google.com/maps/?q=34.05223,-118.2...  \n",
       "2  https://www.google.com/maps/?q=41.85003,-87.65005  \n",
       "3   https://www.google.com/maps/?q=40.6501,-73.94958  \n",
       "4  https://www.google.com/maps/?q=29.76328,-95.36327  "
      ]
     },
     "execution_count": 4,
     "metadata": {},
     "output_type": "execute_result"
    }
   ],
   "source": [
    "df = pd.read_csv('data_USA.csv')\n",
    "df.head()"
   ]
  },
  {
   "cell_type": "code",
   "execution_count": 5,
   "metadata": {},
   "outputs": [],
   "source": [
    "df.drop(columns=['location','asciiname'],inplace=True)\n",
    "df['Size'] = pd.to_numeric(df['population'])\n",
    "df.drop('population', axis = 1, inplace = True)\n",
    "df = df[df['Size']>250000]\n",
    "df['Rank'] = df.index+ 1"
   ]
  },
  {
   "cell_type": "code",
   "execution_count": 10,
   "metadata": {},
   "outputs": [
    {
     "data": {
      "text/html": [
       "<div>\n",
       "<style scoped>\n",
       "    .dataframe tbody tr th:only-of-type {\n",
       "        vertical-align: middle;\n",
       "    }\n",
       "\n",
       "    .dataframe tbody tr th {\n",
       "        vertical-align: top;\n",
       "    }\n",
       "\n",
       "    .dataframe thead th {\n",
       "        text-align: right;\n",
       "    }\n",
       "</style>\n",
       "<table border=\"1\" class=\"dataframe\">\n",
       "  <thead>\n",
       "    <tr style=\"text-align: right;\">\n",
       "      <th></th>\n",
       "      <th>Size</th>\n",
       "      <th>Rank</th>\n",
       "    </tr>\n",
       "  </thead>\n",
       "  <tbody>\n",
       "    <tr>\n",
       "      <th>0</th>\n",
       "      <td>8175133</td>\n",
       "      <td>1</td>\n",
       "    </tr>\n",
       "    <tr>\n",
       "      <th>1</th>\n",
       "      <td>3971883</td>\n",
       "      <td>2</td>\n",
       "    </tr>\n",
       "    <tr>\n",
       "      <th>2</th>\n",
       "      <td>2720546</td>\n",
       "      <td>3</td>\n",
       "    </tr>\n",
       "    <tr>\n",
       "      <th>3</th>\n",
       "      <td>2300664</td>\n",
       "      <td>4</td>\n",
       "    </tr>\n",
       "    <tr>\n",
       "      <th>4</th>\n",
       "      <td>2296224</td>\n",
       "      <td>5</td>\n",
       "    </tr>\n",
       "  </tbody>\n",
       "</table>\n",
       "</div>"
      ],
      "text/plain": [
       "      Size  Rank\n",
       "0  8175133     1\n",
       "1  3971883     2\n",
       "2  2720546     3\n",
       "3  2300664     4\n",
       "4  2296224     5"
      ]
     },
     "execution_count": 10,
     "metadata": {},
     "output_type": "execute_result"
    }
   ],
   "source": [
    "df.head()"
   ]
  },
  {
   "cell_type": "code",
   "execution_count": 11,
   "metadata": {},
   "outputs": [
    {
     "data": {
      "image/png": "[encoded data removed]",
      "text/plain": [
       "<matplotlib.figure.Figure at 0x10966fb38>"
      ]
     },
     "metadata": {
      "needs_background": "light"
     },
     "output_type": "display_data"
    }
   ],
   "source": [
    "plt.figure(figsize =(10,8))\n",
    "sns.scatterplot(y = np.log(df['Rank']),x = np.log(df['Size']))\n",
    "plt.ylabel('Log(Rank)')\n",
    "plt.xlabel('Log(Population)')\n",
    "plt.title('USA')\n",
    "plt.show()"
   ]
  },
  {
   "cell_type": "code",
   "execution_count": 12,
   "metadata": {},
   "outputs": [
    {
     "name": "stdout",
     "output_type": "stream",
     "text": [
      "-1.3290666116996512 21.08203783599572\n"
     ]
    }
   ],
   "source": [
    "beta, alpha = np.polyfit(x = np.log(df['Size']) , y = np.log(df['Rank']) ,deg = 1)\n",
    "print(beta, alpha)"
   ]
  },
  {
   "cell_type": "code",
   "execution_count": 13,
   "metadata": {
    "scrolled": false
   },
   "outputs": [
    {
     "data": {
      "image/png": "[encoded data removed]",
      "text/plain": [
       "<matplotlib.figure.Figure at 0x109791a58>"
      ]
     },
     "metadata": {
      "needs_background": "light"
     },
     "output_type": "display_data"
    }
   ],
   "source": [
    "plt.figure(figsize =(10,8))\n",
    "sns.scatterplot(y = np.log(df['Rank']),x = np.log(df['Size']))\n",
    "sns.lineplot(x = np.log(df['Size']), y = alpha + np.log(df['Size'])*beta, color = 'red')\n",
    "plt.ylabel('Log(Rank)')\n",
    "plt.xlabel('Log(Population)')\n",
    "plt.title('USA')\n",
    "plt.show()"
   ]
  },
  {
   "cell_type": "markdown",
   "metadata": {},
   "source": [
    "So, we see a relation:\n",
    "$$\n",
    "\\ln(\\text{Rank}) = 21.08- 1.33\\ln(\\text{Size})\\,,\n",
    "$$\n",
    "which is remarkably close to the Mexican case."
   ]
  },
  {
   "cell_type": "code",
   "execution_count": null,
   "metadata": {},
   "outputs": [],
   "source": []
  }
 ],
 "metadata": {
  "kernelspec": {
   "display_name": "Python 3",
   "language": "python",
   "name": "python3"
  },
  "language_info": {
   "codemirror_mode": {
    "name": "ipython",
    "version": 3
   },
   "file_extension": ".py",
   "mimetype": "text/x-python",
   "name": "python",
   "nbconvert_exporter": "python",
   "pygments_lexer": "ipython3",
   "version": "3.6.8"
  }
 },
 "nbformat": 4,
 "nbformat_minor": 2
}
